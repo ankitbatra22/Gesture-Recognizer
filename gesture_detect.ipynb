{
  "nbformat": 4,
  "nbformat_minor": 0,
  "metadata": {
    "accelerator": "GPU",
    "colab": {
      "name": "gesture-detect.ipynb",
      "provenance": [],
      "collapsed_sections": [],
      "authorship_tag": "ABX9TyOdxtcoDAG6f4i6HijofU0s",
      "include_colab_link": true
    },
    "kernelspec": {
      "display_name": "Python 3",
      "name": "python3"
    },
    "language_info": {
      "name": "python"
    }
  },
  "cells": [
    {
      "cell_type": "markdown",
      "metadata": {
        "id": "view-in-github",
        "colab_type": "text"
      },
      "source": [
        "<a href=\"https://colab.research.google.com/github/ankitbatra22/Gesture-Recognizer/blob/develop/gesture_detect.ipynb\" target=\"_parent\"><img src=\"https://colab.research.google.com/assets/colab-badge.svg\" alt=\"Open In Colab\"/></a>"
      ]
    },
    {
      "cell_type": "code",
      "metadata": {
        "id": "JZnMxOWKLjIM",
        "colab": {
          "base_uri": "https://localhost:8080/"
        },
        "outputId": "43a1f712-a4b6-4755-fde2-9fc330ba23f7"
      },
      "source": [
        "!git clone https://github.com/ankitbatra22/Gesture-Recognizer.git\n",
        "%cd Gesture-Recognizer/\n",
        "!git checkout develop"
      ],
      "execution_count": 1,
      "outputs": [
        {
          "output_type": "stream",
          "text": [
            "Cloning into 'Gesture-Recognizer'...\n",
            "remote: Enumerating objects: 79, done.\u001b[K\n",
            "remote: Counting objects: 100% (79/79), done.\u001b[K\n",
            "remote: Compressing objects: 100% (58/58), done.\u001b[K\n",
            "remote: Total 79 (delta 31), reused 55 (delta 16), pack-reused 0\u001b[K\n",
            "Unpacking objects: 100% (79/79), done.\n",
            "/content/Gesture-Recognizer\n",
            "Branch 'develop' set up to track remote branch 'develop' from 'origin'.\n",
            "Switched to a new branch 'develop'\n"
          ],
          "name": "stdout"
        }
      ]
    },
    {
      "cell_type": "code",
      "metadata": {
        "id": "AdHRoJY5wAXR"
      },
      "source": [
        "import torch\n",
        "import torch.nn as nn\n",
        "from preprocessing import VideoFolder\n",
        "import json\n",
        "from torchvision.transforms import *\n",
        "import cv2\n",
        "from PIL import Image as im\n",
        "from matplotlib import pyplot as plt\n",
        "import torch.optim as optim\n",
        "import os\n",
        "import tqdm\n",
        "import numpy as np\n",
        "from torch.optim.lr_scheduler import ReduceLROnPlateau"
      ],
      "execution_count": 4,
      "outputs": []
    },
    {
      "cell_type": "code",
      "metadata": {
        "colab": {
          "base_uri": "https://localhost:8080/"
        },
        "id": "7vWvthZ1Lonj",
        "outputId": "3f0ec39e-51b4-4fc5-ff82-1e2268838ff1"
      },
      "source": [
        "from google.colab import drive\n",
        "drive.mount('/content/drive')"
      ],
      "execution_count": 5,
      "outputs": [
        {
          "output_type": "stream",
          "text": [
            "Drive already mounted at /content/drive; to attempt to forcibly remount, call drive.mount(\"/content/drive\", force_remount=True).\n"
          ],
          "name": "stdout"
        }
      ]
    },
    {
      "cell_type": "code",
      "metadata": {
        "id": "uFVIWBl0L3yA"
      },
      "source": [
        "%%capture\n",
        "!unzip '/content/drive/MyDrive/20bn-jester-v1-sub.zip'"
      ],
      "execution_count": null,
      "outputs": []
    },
    {
      "cell_type": "code",
      "metadata": {
        "id": "aOJjchKna4-I"
      },
      "source": [
        "import json\n",
        "import os\n",
        "\n",
        "with open(\"./configs/config.json\") as dataFile:\n",
        "  config = json.load(dataFile)\n",
        "\n",
        "save_dir = os.path.join(config[\"output_dir\"], config[\"model_name\"])\n",
        "\n",
        "transform = Compose([\n",
        "        CenterCrop(100),\n",
        "        #Resize(size=(300,300)),\n",
        "        ToTensor()\n",
        "        #Normalize(mean=[0.485, 0.456, 0.406],\n",
        "                  #std=[0.229, 0.224, 0.225])\n",
        "    ])"
      ],
      "execution_count": 6,
      "outputs": []
    },
    {
      "cell_type": "code",
      "metadata": {
        "id": "p9EHq7qddpmC"
      },
      "source": [
        "train_data = VideoFolder(root=config['train_data_folder'],\n",
        "                             csv_file_input=config['train_data_csv'],\n",
        "                             csv_file_labels=config['labels_csv'],\n",
        "                             clip_size=config['clip_size'],\n",
        "                             nclips=1,\n",
        "                             step_size=config['step_size'],\n",
        "                             is_val=False,\n",
        "                             transform=transform,\n",
        "                             )\n",
        "\n",
        "train_loader = torch.utils.data.DataLoader(\n",
        "        train_data,\n",
        "        batch_size=config['batch_size'], shuffle=True,\n",
        "        num_workers=config['num_workers'], pin_memory=True,\n",
        "        drop_last=True)\n",
        "  \n",
        "val_data = VideoFolder(root=config['val_data_folder'],\n",
        "                          csv_file_input=config['val_data_csv'],\n",
        "                          csv_file_labels=config['labels_csv'],\n",
        "                          clip_size=config['clip_size'],\n",
        "                          nclips=1,\n",
        "                          step_size=config['step_size'],\n",
        "                          is_val=True,\n",
        "                          transform=transform,\n",
        "                          )\n",
        "\n",
        "val_loader = torch.utils.data.DataLoader(\n",
        "    val_data,\n",
        "    batch_size=config['batch_size'], shuffle=False,\n",
        "    num_workers=config['num_workers'], pin_memory=True,\n",
        "    drop_last=False)"
      ],
      "execution_count": 7,
      "outputs": []
    },
    {
      "cell_type": "code",
      "metadata": {
        "colab": {
          "base_uri": "https://localhost:8080/"
        },
        "id": "_cXOktD9eiqJ",
        "outputId": "0fcc222e-9814-42f8-fe00-5daad1b1fd2e"
      },
      "source": [
        "from model import Net\n",
        "\n",
        "device = (torch.device('cuda') if torch.cuda.is_available()\n",
        "else torch.device('cpu'))\n",
        "print(torch.cuda.get_device_name(0))\n",
        "print(torch.cuda.is_available())\n",
        "\n",
        "net = Net()\n",
        "print(net)\n",
        "optimizer = torch.optim.SGD(net.parameters(), config['lr'],\n",
        "                                momentum=config['momentum'],\n",
        "                                weight_decay=config['weight_decay'])\n",
        "\n",
        "criterion = nn.CrossEntropyLoss(reduction='sum')\n",
        "EPOCHS = 25"
      ],
      "execution_count": 8,
      "outputs": [
        {
          "output_type": "stream",
          "text": [
            "Tesla P100-PCIE-16GB\n",
            "True\n",
            "Net(\n",
            "  (conv1): Sequential(\n",
            "    (0): Conv3d(3, 64, kernel_size=(3, 3, 3), stride=(1, 1, 1), padding=(1, 1, 1))\n",
            "    (1): BatchNorm3d(64, eps=1e-05, momentum=0.1, affine=True, track_running_stats=True)\n",
            "    (2): ELU(alpha=1.0)\n",
            "    (3): MaxPool3d(kernel_size=(1, 2, 2), stride=(1, 2, 2), padding=0, dilation=1, ceil_mode=False)\n",
            "  )\n",
            "  (conv2): Sequential(\n",
            "    (0): Conv3d(64, 128, kernel_size=(3, 3, 3), stride=(1, 1, 1), padding=(1, 1, 1))\n",
            "    (1): BatchNorm3d(128, eps=1e-05, momentum=0.1, affine=True, track_running_stats=True)\n",
            "    (2): ELU(alpha=1.0)\n",
            "    (3): MaxPool3d(kernel_size=(1, 2, 2), stride=(1, 2, 2), padding=0, dilation=1, ceil_mode=False)\n",
            "  )\n",
            "  (conv3): Sequential(\n",
            "    (0): Conv3d(128, 256, kernel_size=(3, 3, 3), stride=(1, 1, 1), padding=(1, 1, 1))\n",
            "    (1): BatchNorm3d(256, eps=1e-05, momentum=0.1, affine=True, track_running_stats=True)\n",
            "    (2): ELU(alpha=1.0)\n",
            "    (3): MaxPool3d(kernel_size=(2, 2, 2), stride=(2, 2, 2), padding=0, dilation=1, ceil_mode=False)\n",
            "  )\n",
            "  (conv4): Sequential(\n",
            "    (0): Conv3d(256, 256, kernel_size=(3, 3, 3), stride=(1, 1, 1), padding=(1, 1, 1))\n",
            "    (1): BatchNorm3d(256, eps=1e-05, momentum=0.1, affine=True, track_running_stats=True)\n",
            "    (2): ELU(alpha=1.0)\n",
            "    (3): MaxPool3d(kernel_size=(2, 2, 2), stride=(2, 2, 2), padding=0, dilation=1, ceil_mode=False)\n",
            "  )\n",
            "  (fc1): Linear(in_features=36864, out_features=512, bias=True)\n",
            "  (fc2): Linear(in_features=512, out_features=512, bias=True)\n",
            "  (fc3): Linear(in_features=512, out_features=256, bias=True)\n",
            "  (fc4): Linear(in_features=256, out_features=11, bias=True)\n",
            ")\n"
          ],
          "name": "stdout"
        }
      ]
    },
    {
      "cell_type": "code",
      "metadata": {
        "colab": {
          "base_uri": "https://localhost:8080/",
          "height": 575
        },
        "id": "A6V8hhgrpoM4",
        "outputId": "2227d89e-2c7c-4d67-fede-9412a4d52d4e"
      },
      "source": [
        "print(len(val_loader))\n",
        "x = next(iter(val_loader))\n",
        "#print(x)\n",
        "#print(x[0].shape)\n",
        "\n",
        "NUM = 14\n",
        "\n",
        "print(x[1][NUM])\n",
        "vidBatch = (x[0][NUM])\n",
        "pog = vidBatch.permute(1,2,3,0)\n",
        "pog[0]\n",
        "\n",
        "import numpy as np\n",
        "import matplotlib.pyplot as plt\n",
        "\n",
        "w = 12\n",
        "h = 12\n",
        "fig = plt.figure(figsize=(8, 8))\n",
        "columns = 8\n",
        "rows = 4\n",
        "\n",
        "for i in range(1, columns*rows):\n",
        "    #img = np.random.randint(10, size=(h,w))\n",
        "    img = pog[i].detach().numpy()\n",
        "    fig.add_subplot(rows, columns, i)\n",
        "    plt.imshow(img)\n",
        "\n",
        "plt.show()\n",
        "\n"
      ],
      "execution_count": 9,
      "outputs": [
        {
          "output_type": "stream",
          "text": [
            "211\n",
            "tensor(3)\n"
          ],
          "name": "stdout"
        },
        {
          "output_type": "error",
          "ename": "IndexError",
          "evalue": "ignored",
          "traceback": [
            "\u001b[0;31m---------------------------------------------------------------------------\u001b[0m",
            "\u001b[0;31mIndexError\u001b[0m                                Traceback (most recent call last)",
            "\u001b[0;32m<ipython-input-9-4ecbd213a855>\u001b[0m in \u001b[0;36m<module>\u001b[0;34m()\u001b[0m\n\u001b[1;32m     22\u001b[0m \u001b[0;32mfor\u001b[0m \u001b[0mi\u001b[0m \u001b[0;32min\u001b[0m \u001b[0mrange\u001b[0m\u001b[0;34m(\u001b[0m\u001b[0;36m1\u001b[0m\u001b[0;34m,\u001b[0m \u001b[0mcolumns\u001b[0m\u001b[0;34m*\u001b[0m\u001b[0mrows\u001b[0m\u001b[0;34m)\u001b[0m\u001b[0;34m:\u001b[0m\u001b[0;34m\u001b[0m\u001b[0;34m\u001b[0m\u001b[0m\n\u001b[1;32m     23\u001b[0m     \u001b[0;31m#img = np.random.randint(10, size=(h,w))\u001b[0m\u001b[0;34m\u001b[0m\u001b[0;34m\u001b[0m\u001b[0;34m\u001b[0m\u001b[0m\n\u001b[0;32m---> 24\u001b[0;31m     \u001b[0mimg\u001b[0m \u001b[0;34m=\u001b[0m \u001b[0mpog\u001b[0m\u001b[0;34m[\u001b[0m\u001b[0mi\u001b[0m\u001b[0;34m]\u001b[0m\u001b[0;34m.\u001b[0m\u001b[0mdetach\u001b[0m\u001b[0;34m(\u001b[0m\u001b[0;34m)\u001b[0m\u001b[0;34m.\u001b[0m\u001b[0mnumpy\u001b[0m\u001b[0;34m(\u001b[0m\u001b[0;34m)\u001b[0m\u001b[0;34m\u001b[0m\u001b[0;34m\u001b[0m\u001b[0m\n\u001b[0m\u001b[1;32m     25\u001b[0m     \u001b[0mfig\u001b[0m\u001b[0;34m.\u001b[0m\u001b[0madd_subplot\u001b[0m\u001b[0;34m(\u001b[0m\u001b[0mrows\u001b[0m\u001b[0;34m,\u001b[0m \u001b[0mcolumns\u001b[0m\u001b[0;34m,\u001b[0m \u001b[0mi\u001b[0m\u001b[0;34m)\u001b[0m\u001b[0;34m\u001b[0m\u001b[0;34m\u001b[0m\u001b[0m\n\u001b[1;32m     26\u001b[0m     \u001b[0mplt\u001b[0m\u001b[0;34m.\u001b[0m\u001b[0mimshow\u001b[0m\u001b[0;34m(\u001b[0m\u001b[0mimg\u001b[0m\u001b[0;34m)\u001b[0m\u001b[0;34m\u001b[0m\u001b[0;34m\u001b[0m\u001b[0m\n",
            "\u001b[0;31mIndexError\u001b[0m: index 18 is out of bounds for dimension 0 with size 18"
          ]
        },
        {
          "output_type": "display_data",
          "data": {
            "image/png": "[encoded data removed]",
            "text/plain": [
              "<Figure size 576x576 with 17 Axes>"
            ]
          },
          "metadata": {
            "tags": [],
            "needs_background": "light"
          }
        }
      ]
    },
    {
      "cell_type": "code",
      "metadata": {
        "colab": {
          "base_uri": "https://localhost:8080/",
          "height": 1000
        },
        "id": "4E0RMXLAezR9",
        "outputId": "900f8874-a71a-4a95-cf5a-08d037e6a39b"
      },
      "source": [
        "import matplotlib.pyplot as plt\n",
        "from tqdm import tqdm\n",
        "\n",
        "net.cuda()\n",
        "torch.cuda.empty_cache()\n",
        "\n",
        "val_losses = []\n",
        "train_losses = []\n",
        "min_valid_loss = 1e99\n",
        "correct, total = 0, 0\n",
        "\n",
        "scheduler = ReduceLROnPlateau(optimizer, 'min', patience=3, verbose=True)\n",
        "\n",
        "for epoch in range(EPOCHS):\n",
        "    train_loss = 0.0\n",
        "    net.train()\n",
        "\n",
        "    print(\"EPOCH: \", epoch)\n",
        "    for i, (input, target) in enumerate(tqdm(train_loader)):\n",
        "      #print(i)\n",
        "      input, target = input.to(device = device), target.to(device = device)\n",
        "      optimizer.zero_grad()\n",
        "      output = net(input)\n",
        "      loss = criterion(output, target)\n",
        "      train_loss += loss.item()\n",
        "      loss.backward()\n",
        "      optimizer.step()\n",
        "\n",
        "    net.eval()\n",
        "    validation_loss = 0.0\n",
        "\n",
        "\n",
        "    with torch.no_grad():\n",
        "      for i, (item, truth) in enumerate(val_loader):\n",
        "        item, truth = item.to(device = device), truth.to(device = device)\n",
        "        out = net(item)\n",
        "        #print(torch.argmax(out, dim=1), truth)\n",
        "        # [predictions] and [truth]\n",
        "        matching = torch.eq(torch.argmax(out, dim=1), truth)\n",
        "        #print(torch.sum(matching, dim=0).item())\n",
        "        # [boolean array]\n",
        "        correct += torch.sum(matching, dim=0).item()\n",
        "        total += 32\n",
        "        valLoss = criterion(out, truth)\n",
        "        validation_loss += valLoss.item()   \n",
        "\n",
        "    #print(correct, total)\n",
        "    accuracy = correct / total\n",
        "    validation_loss /= (len(val_loader) * config[\"batch_size\"]) #len val loader is the number of val batches\n",
        "    train_loss /= (len(train_loader) * config[\"batch_size\"])\n",
        "    \n",
        "    scheduler.step(validation_loss)\n",
        "\n",
        "    if validation_loss < min_valid_loss:\n",
        "      min_valid_loss = validation_loss\n",
        "      torch.save(net.state_dict(), '/content/drive/MyDrive/july28.pt')\n",
        "      print()\n",
        "      print(\"model saved!\")\n",
        "      \n",
        "    train_losses.append(train_loss)\n",
        "    val_losses.append(validation_loss)\n",
        "\n",
        "    print()\n",
        "    print(\"TRAIN LOSS: \", train_loss, \"VALIDATION LOSS:\", validation_loss, )\n",
        "    print(\"VALIDATION ACCURACY\", accuracy)\n",
        "\n",
        "\n",
        "\n",
        "plt.figure(figsize=(10,5))\n",
        "plt.title(\"Training and Validation Loss\")\n",
        "plt.plot(val_losses,label=\"val\")\n",
        "plt.plot(train_losses,label=\"train\")\n",
        "plt.xlabel(\"iterations\")\n",
        "plt.ylabel(\"Loss\")\n",
        "plt.legend()\n",
        "plt.show()\n",
        "\n"
      ],
      "execution_count": 10,
      "outputs": [
        {
          "output_type": "stream",
          "text": [
            "\r  0%|          | 0/1639 [00:00<?, ?it/s]"
          ],
          "name": "stderr"
        },
        {
          "output_type": "stream",
          "text": [
            "EPOCH:  0\n"
          ],
          "name": "stdout"
        },
        {
          "output_type": "stream",
          "text": [
            "100%|██████████| 1639/1639 [17:33<00:00,  1.56it/s]\n",
            "  0%|          | 0/1639 [00:00<?, ?it/s]"
          ],
          "name": "stderr"
        },
        {
          "output_type": "stream",
          "text": [
            "\n",
            "model saved!\n",
            "\n",
            "TRAIN LOSS:  1.6417989207157788 VALIDATION LOSS: 1.1708163802657647\n",
            "VALIDATION ACCURACY 0.6775770142180095\n",
            "EPOCH:  1\n"
          ],
          "name": "stdout"
        },
        {
          "output_type": "stream",
          "text": [
            "100%|██████████| 1639/1639 [16:55<00:00,  1.61it/s]\n",
            "  0%|          | 0/1639 [00:00<?, ?it/s]"
          ],
          "name": "stderr"
        },
        {
          "output_type": "stream",
          "text": [
            "\n",
            "model saved!\n",
            "\n",
            "TRAIN LOSS:  0.9053231920681035 VALIDATION LOSS: 0.7768685869978502\n",
            "VALIDATION ACCURACY 0.7259330568720379\n",
            "EPOCH:  2\n"
          ],
          "name": "stdout"
        },
        {
          "output_type": "stream",
          "text": [
            "100%|██████████| 1639/1639 [17:01<00:00,  1.60it/s]\n",
            "  0%|          | 0/1639 [00:00<?, ?it/s]"
          ],
          "name": "stderr"
        },
        {
          "output_type": "stream",
          "text": [
            "\n",
            "TRAIN LOSS:  0.6809218700172844 VALIDATION LOSS: 0.8542271134977657\n",
            "VALIDATION ACCURACY 0.7479265402843602\n",
            "EPOCH:  3\n"
          ],
          "name": "stdout"
        },
        {
          "output_type": "stream",
          "text": [
            "100%|██████████| 1639/1639 [16:58<00:00,  1.61it/s]\n",
            "  0%|          | 0/1639 [00:00<?, ?it/s]"
          ],
          "name": "stderr"
        },
        {
          "output_type": "stream",
          "text": [
            "\n",
            "model saved!\n",
            "\n",
            "TRAIN LOSS:  0.6101129245776694 VALIDATION LOSS: 0.7164627203444169\n",
            "VALIDATION ACCURACY 0.7648474526066351\n",
            "EPOCH:  4\n"
          ],
          "name": "stdout"
        },
        {
          "output_type": "stream",
          "text": [
            "100%|██████████| 1639/1639 [17:01<00:00,  1.61it/s]\n",
            "  0%|          | 0/1639 [00:00<?, ?it/s]"
          ],
          "name": "stderr"
        },
        {
          "output_type": "stream",
          "text": [
            "\n",
            "TRAIN LOSS:  0.564212903523587 VALIDATION LOSS: 0.9745634896636575\n",
            "VALIDATION ACCURACY 0.7730154028436019\n",
            "EPOCH:  5\n"
          ],
          "name": "stdout"
        },
        {
          "output_type": "stream",
          "text": [
            "100%|██████████| 1639/1639 [17:00<00:00,  1.61it/s]\n",
            "  0%|          | 0/1639 [00:00<?, ?it/s]"
          ],
          "name": "stderr"
        },
        {
          "output_type": "stream",
          "text": [
            "\n",
            "TRAIN LOSS:  0.5178497144097236 VALIDATION LOSS: 1.0997235917649564\n",
            "VALIDATION ACCURACY 0.77638724328594\n",
            "EPOCH:  6\n"
          ],
          "name": "stdout"
        },
        {
          "output_type": "stream",
          "text": [
            "100%|██████████| 1639/1639 [16:55<00:00,  1.61it/s]\n",
            "  0%|          | 0/1639 [00:00<?, ?it/s]"
          ],
          "name": "stderr"
        },
        {
          "output_type": "stream",
          "text": [
            "\n",
            "TRAIN LOSS:  0.6018160633933733 VALIDATION LOSS: 0.990211340629659\n",
            "VALIDATION ACCURACY 0.7807422139471902\n",
            "EPOCH:  7\n"
          ],
          "name": "stdout"
        },
        {
          "output_type": "stream",
          "text": [
            "100%|██████████| 1639/1639 [16:53<00:00,  1.62it/s]\n",
            "  0%|          | 0/1639 [00:00<?, ?it/s]"
          ],
          "name": "stderr"
        },
        {
          "output_type": "stream",
          "text": [
            "Epoch     8: reducing learning rate of group 0 to 1.0000e-04.\n",
            "\n",
            "TRAIN LOSS:  0.7820920747016682 VALIDATION LOSS: 1.590803148904683\n",
            "VALIDATION ACCURACY 0.781046356635071\n",
            "EPOCH:  8\n"
          ],
          "name": "stdout"
        },
        {
          "output_type": "stream",
          "text": [
            "100%|██████████| 1639/1639 [16:50<00:00,  1.62it/s]\n",
            "  0%|          | 0/1639 [00:00<?, ?it/s]"
          ],
          "name": "stderr"
        },
        {
          "output_type": "stream",
          "text": [
            "\n",
            "model saved!\n",
            "\n",
            "TRAIN LOSS:  0.25392337960359834 VALIDATION LOSS: 0.6000997429951955\n",
            "VALIDATION ACCURACY 0.7914691943127962\n",
            "EPOCH:  9\n"
          ],
          "name": "stdout"
        },
        {
          "output_type": "stream",
          "text": [
            "100%|██████████| 1639/1639 [16:56<00:00,  1.61it/s]\n",
            "  0%|          | 0/1639 [00:00<?, ?it/s]"
          ],
          "name": "stderr"
        },
        {
          "output_type": "stream",
          "text": [
            "\n",
            "TRAIN LOSS:  0.13842381663927172 VALIDATION LOSS: 0.62482619744624\n",
            "VALIDATION ACCURACY 0.800207345971564\n",
            "EPOCH:  10\n"
          ],
          "name": "stdout"
        },
        {
          "output_type": "stream",
          "text": [
            "100%|██████████| 1639/1639 [16:54<00:00,  1.62it/s]\n",
            "  0%|          | 0/1639 [00:00<?, ?it/s]"
          ],
          "name": "stderr"
        },
        {
          "output_type": "stream",
          "text": [
            "\n",
            "TRAIN LOSS:  0.10116495675717886 VALIDATION LOSS: 0.7028155176154386\n",
            "VALIDATION ACCURACY 0.8076394872899613\n",
            "EPOCH:  11\n"
          ],
          "name": "stdout"
        },
        {
          "output_type": "stream",
          "text": [
            "100%|██████████| 1639/1639 [17:03<00:00,  1.60it/s]\n",
            "  0%|          | 0/1639 [00:00<?, ?it/s]"
          ],
          "name": "stderr"
        },
        {
          "output_type": "stream",
          "text": [
            "\n",
            "TRAIN LOSS:  0.0792565051564432 VALIDATION LOSS: 0.7319919858392664\n",
            "VALIDATION ACCURACY 0.8138576224328594\n",
            "EPOCH:  12\n"
          ],
          "name": "stdout"
        },
        {
          "output_type": "stream",
          "text": [
            "100%|██████████| 1639/1639 [16:54<00:00,  1.62it/s]\n",
            "  0%|          | 0/1639 [00:00<?, ?it/s]"
          ],
          "name": "stderr"
        },
        {
          "output_type": "stream",
          "text": [
            "Epoch    13: reducing learning rate of group 0 to 1.0000e-05.\n",
            "\n",
            "TRAIN LOSS:  0.06314472580725668 VALIDATION LOSS: 0.791728301300398\n",
            "VALIDATION ACCURACY 0.8191532993073277\n",
            "EPOCH:  13\n"
          ],
          "name": "stdout"
        },
        {
          "output_type": "stream",
          "text": [
            "100%|██████████| 1639/1639 [16:52<00:00,  1.62it/s]\n",
            "  0%|          | 0/1639 [00:00<?, ?it/s]"
          ],
          "name": "stderr"
        },
        {
          "output_type": "stream",
          "text": [
            "\n",
            "TRAIN LOSS:  0.045903252829933266 VALIDATION LOSS: 0.8130924746535401\n",
            "VALIDATION ACCURACY 0.8237453452945159\n",
            "EPOCH:  14\n"
          ],
          "name": "stdout"
        },
        {
          "output_type": "stream",
          "text": [
            "100%|██████████| 1639/1639 [16:49<00:00,  1.62it/s]\n",
            "  0%|          | 0/1639 [00:00<?, ?it/s]"
          ],
          "name": "stderr"
        },
        {
          "output_type": "stream",
          "text": [
            "\n",
            "TRAIN LOSS:  0.04381916972988925 VALIDATION LOSS: 0.8256301443088111\n",
            "VALIDATION ACCURACY 0.8277843601895735\n",
            "EPOCH:  15\n"
          ],
          "name": "stdout"
        },
        {
          "output_type": "stream",
          "text": [
            "100%|██████████| 1639/1639 [16:49<00:00,  1.62it/s]\n",
            "  0%|          | 0/1639 [00:00<?, ?it/s]"
          ],
          "name": "stderr"
        },
        {
          "output_type": "stream",
          "text": [
            "\n",
            "TRAIN LOSS:  0.04254868959945605 VALIDATION LOSS: 0.8358247725301868\n",
            "VALIDATION ACCURACY 0.8312814721563981\n",
            "EPOCH:  16\n"
          ],
          "name": "stdout"
        },
        {
          "output_type": "stream",
          "text": [
            "100%|██████████| 1639/1639 [16:53<00:00,  1.62it/s]\n",
            "  0%|          | 0/1639 [00:00<?, ?it/s]"
          ],
          "name": "stderr"
        },
        {
          "output_type": "stream",
          "text": [
            "Epoch    17: reducing learning rate of group 0 to 1.0000e-06.\n",
            "\n",
            "TRAIN LOSS:  0.041510151878087806 VALIDATION LOSS: 0.8489175227457454\n",
            "VALIDATION ACCURACY 0.8343497351547254\n",
            "EPOCH:  17\n"
          ],
          "name": "stdout"
        },
        {
          "output_type": "stream",
          "text": [
            "100%|██████████| 1639/1639 [16:52<00:00,  1.62it/s]\n",
            "  0%|          | 0/1639 [00:00<?, ?it/s]"
          ],
          "name": "stderr"
        },
        {
          "output_type": "stream",
          "text": [
            "\n",
            "TRAIN LOSS:  0.039805255629637534 VALIDATION LOSS: 0.8531947870301833\n",
            "VALIDATION ACCURACY 0.8370935360716166\n",
            "EPOCH:  18\n"
          ],
          "name": "stdout"
        },
        {
          "output_type": "stream",
          "text": [
            "100%|██████████| 1639/1639 [16:54<00:00,  1.62it/s]\n",
            "  0%|          | 0/1639 [00:00<?, ?it/s]"
          ],
          "name": "stderr"
        },
        {
          "output_type": "stream",
          "text": [
            "\n",
            "TRAIN LOSS:  0.039909798775668096 VALIDATION LOSS: 0.8419768688185096\n",
            "VALIDATION ACCURACY 0.8395173359940135\n",
            "EPOCH:  19\n"
          ],
          "name": "stdout"
        },
        {
          "output_type": "stream",
          "text": [
            "100%|██████████| 1639/1639 [17:13<00:00,  1.59it/s]\n",
            "  0%|          | 0/1639 [00:00<?, ?it/s]"
          ],
          "name": "stderr"
        },
        {
          "output_type": "stream",
          "text": [
            "\n",
            "TRAIN LOSS:  0.0400719697016733 VALIDATION LOSS: 0.8337911663762342\n",
            "VALIDATION ACCURACY 0.8417357819905213\n",
            "EPOCH:  20\n"
          ],
          "name": "stdout"
        },
        {
          "output_type": "stream",
          "text": [
            "100%|██████████| 1639/1639 [16:56<00:00,  1.61it/s]\n",
            "  0%|          | 0/1639 [00:00<?, ?it/s]"
          ],
          "name": "stderr"
        },
        {
          "output_type": "stream",
          "text": [
            "Epoch    21: reducing learning rate of group 0 to 1.0000e-07.\n",
            "\n",
            "TRAIN LOSS:  0.03957559364466674 VALIDATION LOSS: 0.8449416031257659\n",
            "VALIDATION ACCURACY 0.8437006319115324\n",
            "EPOCH:  21\n"
          ],
          "name": "stdout"
        },
        {
          "output_type": "stream",
          "text": [
            "100%|██████████| 1639/1639 [16:53<00:00,  1.62it/s]\n",
            "  0%|          | 0/1639 [00:00<?, ?it/s]"
          ],
          "name": "stderr"
        },
        {
          "output_type": "stream",
          "text": [
            "\n",
            "TRAIN LOSS:  0.03939456183416321 VALIDATION LOSS: 0.841548932522041\n",
            "VALIDATION ACCURACY 0.8454935911245153\n",
            "EPOCH:  22\n"
          ],
          "name": "stdout"
        },
        {
          "output_type": "stream",
          "text": [
            "100%|██████████| 1639/1639 [16:56<00:00,  1.61it/s]\n",
            "  0%|          | 0/1639 [00:00<?, ?it/s]"
          ],
          "name": "stderr"
        },
        {
          "output_type": "stream",
          "text": [
            "\n",
            "TRAIN LOSS:  0.039518700975104105 VALIDATION LOSS: 0.8545263916677773\n",
            "VALIDATION ACCURACY 0.8471370801566042\n",
            "EPOCH:  23\n"
          ],
          "name": "stdout"
        },
        {
          "output_type": "stream",
          "text": [
            "100%|██████████| 1639/1639 [16:53<00:00,  1.62it/s]\n",
            "  0%|          | 0/1639 [00:00<?, ?it/s]"
          ],
          "name": "stderr"
        },
        {
          "output_type": "stream",
          "text": [
            "\n",
            "TRAIN LOSS:  0.039016087898551335 VALIDATION LOSS: 0.8446120366065706\n",
            "VALIDATION ACCURACY 0.8486559537914692\n",
            "EPOCH:  24\n"
          ],
          "name": "stdout"
        },
        {
          "output_type": "stream",
          "text": [
            "100%|██████████| 1639/1639 [16:57<00:00,  1.61it/s]\n"
          ],
          "name": "stderr"
        },
        {
          "output_type": "stream",
          "text": [
            "Epoch    25: reducing learning rate of group 0 to 1.0000e-08.\n",
            "\n",
            "TRAIN LOSS:  0.03906160032652476 VALIDATION LOSS: 0.8456362575928181\n",
            "VALIDATION ACCURACY 0.8500770142180095\n"
          ],
          "name": "stdout"
        },
        {
          "output_type": "display_data",
          "data": {
            "image/png": "[encoded data removed]",
            "text/plain": [
              "<Figure size 720x360 with 1 Axes>"
            ]
          },
          "metadata": {
            "tags": [],
            "needs_background": "light"
          }
        }
      ]
    },
    {
      "cell_type": "code",
      "metadata": {
        "id": "V70pPYDUBphW"
      },
      "source": [
        "torch.save(net.state_dict(), '/content/drive/MyDrive/latest.pt')"
      ],
      "execution_count": 11,
      "outputs": []
    }
  ]
}