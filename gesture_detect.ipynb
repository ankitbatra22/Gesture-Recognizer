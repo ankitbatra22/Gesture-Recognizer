{
  "nbformat": 4,
  "nbformat_minor": 0,
  "metadata": {
    "accelerator": "GPU",
    "colab": {
      "name": "gesture-detect.ipynb",
      "provenance": [],
      "collapsed_sections": [],
      "authorship_tag": "ABX9TyMOBm/GwM9tjVQTfMf6J1/p",
      "include_colab_link": true
    },
    "kernelspec": {
      "display_name": "Python 3",
      "name": "python3"
    },
    "language_info": {
      "name": "python"
    }
  },
  "cells": [
    {
      "cell_type": "markdown",
      "metadata": {
        "id": "view-in-github",
        "colab_type": "text"
      },
      "source": [
        "<a href=\"https://colab.research.google.com/github/ankitbatra22/Gesture-Recognizer/blob/develop/gesture_detect.ipynb\" target=\"_parent\"><img src=\"https://colab.research.google.com/assets/colab-badge.svg\" alt=\"Open In Colab\"/></a>"
      ]
    },
    {
      "cell_type": "code",
      "metadata": {
        "id": "JZnMxOWKLjIM",
        "outputId": "5265fbc7-58c6-4080-d706-85e5fa283de8",
        "colab": {
          "base_uri": "https://localhost:8080/"
        }
      },
      "source": [
        "!git clone https://github.com/ankitbatra22/Gesture-Recognizer.git\n",
        "%cd Gesture-Recognizer/\n",
        "!git checkout develop"
      ],
      "execution_count": 1,
      "outputs": [
        {
          "output_type": "stream",
          "text": [
            "fatal: destination path 'Gesture-Recognizer' already exists and is not an empty directory.\n",
            "/content/Gesture-Recognizer\n",
            "M\tconfigs/config.json\n",
            "M\tmodel.py\n",
            "M\tpreprocessing.py\n",
            "Already on 'develop'\n",
            "Your branch is up to date with 'origin/develop'.\n"
          ],
          "name": "stdout"
        }
      ]
    },
    {
      "cell_type": "code",
      "metadata": {
        "id": "AdHRoJY5wAXR"
      },
      "source": [
        "import torch\n",
        "import torch.nn as nn\n",
        "from preprocessing import VideoFolder\n",
        "import json\n",
        "from torchvision.transforms import *\n",
        "import cv2\n",
        "from PIL import Image as im\n",
        "from matplotlib import pyplot as plt\n",
        "import torch.optim as optim\n",
        "import os\n",
        "import tqdm\n",
        "import numpy as np\n",
        "from torch.optim.lr_scheduler import ReduceLROnPlateau"
      ],
      "execution_count": 2,
      "outputs": []
    },
    {
      "cell_type": "code",
      "metadata": {
        "colab": {
          "base_uri": "https://localhost:8080/"
        },
        "id": "7vWvthZ1Lonj",
        "outputId": "ce439564-c4cd-4550-97ad-328031d50971"
      },
      "source": [
        "from google.colab import drive\n",
        "drive.mount('/content/drive')"
      ],
      "execution_count": 3,
      "outputs": [
        {
          "output_type": "stream",
          "text": [
            "Drive already mounted at /content/drive; to attempt to forcibly remount, call drive.mount(\"/content/drive\", force_remount=True).\n"
          ],
          "name": "stdout"
        }
      ]
    },
    {
      "cell_type": "code",
      "metadata": {
        "colab": {
          "base_uri": "https://localhost:8080/"
        },
        "id": "uFVIWBl0L3yA",
        "outputId": "80ae631d-2224-4ae0-cb95-cb071080cb47"
      },
      "source": [
        "!unzip '/content/drive/MyDrive/20bn-jester-v1-sub.zip'"
      ],
      "execution_count": 4,
      "outputs": [
        {
          "output_type": "stream",
          "text": [
            "Archive:  /content/drive/MyDrive/20bn-jester-v1-sub.zip\n",
            "replace __MACOSX/._20bn-jester-v1-sub? [y]es, [n]o, [A]ll, [N]one, [r]ename: "
          ],
          "name": "stdout"
        }
      ]
    },
    {
      "cell_type": "code",
      "metadata": {
        "id": "aOJjchKna4-I"
      },
      "source": [
        "import json\n",
        "import os\n",
        "\n",
        "with open(\"./configs/config.json\") as dataFile:\n",
        "  config = json.load(dataFile)\n",
        "\n",
        "save_dir = os.path.join(config[\"output_dir\"], config[\"model_name\"])\n",
        "\n",
        "transform = Compose([\n",
        "        CenterCrop(100),\n",
        "        #Resize(size=(300,300)),\n",
        "        ToTensor()\n",
        "        #Normalize(mean=[0.485, 0.456, 0.406],\n",
        "                  #std=[0.229, 0.224, 0.225])\n",
        "    ])"
      ],
      "execution_count": 5,
      "outputs": []
    },
    {
      "cell_type": "code",
      "metadata": {
        "id": "p9EHq7qddpmC"
      },
      "source": [
        "train_data = VideoFolder(root=config['train_data_folder'],\n",
        "                             csv_file_input=config['train_data_csv'],\n",
        "                             csv_file_labels=config['labels_csv'],\n",
        "                             clip_size=config['clip_size'],\n",
        "                             nclips=1,\n",
        "                             step_size=config['step_size'],\n",
        "                             is_val=False,\n",
        "                             transform=transform,\n",
        "                             )\n",
        "\n",
        "train_loader = torch.utils.data.DataLoader(\n",
        "        train_data,\n",
        "        batch_size=config['batch_size'], shuffle=True,\n",
        "        num_workers=config['num_workers'], pin_memory=True,\n",
        "        drop_last=True)\n",
        "  \n",
        "val_data = VideoFolder(root=config['val_data_folder'],\n",
        "                          csv_file_input=config['val_data_csv'],\n",
        "                          csv_file_labels=config['labels_csv'],\n",
        "                          clip_size=config['clip_size'],\n",
        "                          nclips=1,\n",
        "                          step_size=config['step_size'],\n",
        "                          is_val=True,\n",
        "                          transform=transform,\n",
        "                          )\n",
        "\n",
        "val_loader = torch.utils.data.DataLoader(\n",
        "    val_data,\n",
        "    batch_size=config['batch_size'], shuffle=False,\n",
        "    num_workers=config['num_workers'], pin_memory=True,\n",
        "    drop_last=False)"
      ],
      "execution_count": 6,
      "outputs": []
    },
    {
      "cell_type": "code",
      "metadata": {
        "colab": {
          "base_uri": "https://localhost:8080/"
        },
        "id": "_cXOktD9eiqJ",
        "outputId": "adb0649c-033c-46dd-ca1a-ba321581ca68"
      },
      "source": [
        "from model import Net\n",
        "\n",
        "device = (torch.device('cuda') if torch.cuda.is_available()\n",
        "else torch.device('cpu'))\n",
        "print(torch.cuda.get_device_name(0))\n",
        "print(torch.cuda.is_available())\n",
        "\n",
        "net = Net()\n",
        "print(net)\n",
        "optimizer = torch.optim.SGD(net.parameters(), config['lr'],\n",
        "                                momentum=config['momentum'],\n",
        "                                weight_decay=config['weight_decay'])\n",
        "\n",
        "criterion = nn.CrossEntropyLoss(reduction='sum')\n",
        "EPOCHS = 20"
      ],
      "execution_count": 7,
      "outputs": [
        {
          "output_type": "stream",
          "text": [
            "Tesla P100-PCIE-16GB\n",
            "True\n",
            "Net(\n",
            "  (conv1): Sequential(\n",
            "    (0): Conv3d(3, 64, kernel_size=(3, 3, 3), stride=(1, 1, 1), padding=(1, 1, 1))\n",
            "    (1): BatchNorm3d(64, eps=1e-05, momentum=0.1, affine=True, track_running_stats=True)\n",
            "    (2): ELU(alpha=1.0)\n",
            "    (3): MaxPool3d(kernel_size=(1, 2, 2), stride=(1, 2, 2), padding=0, dilation=1, ceil_mode=False)\n",
            "  )\n",
            "  (conv2): Sequential(\n",
            "    (0): Conv3d(64, 128, kernel_size=(3, 3, 3), stride=(1, 1, 1), padding=(1, 1, 1))\n",
            "    (1): BatchNorm3d(128, eps=1e-05, momentum=0.1, affine=True, track_running_stats=True)\n",
            "    (2): ELU(alpha=1.0)\n",
            "    (3): MaxPool3d(kernel_size=(1, 2, 2), stride=(1, 2, 2), padding=0, dilation=1, ceil_mode=False)\n",
            "  )\n",
            "  (conv3): Sequential(\n",
            "    (0): Conv3d(128, 256, kernel_size=(3, 3, 3), stride=(1, 1, 1), padding=(1, 1, 1))\n",
            "    (1): BatchNorm3d(256, eps=1e-05, momentum=0.1, affine=True, track_running_stats=True)\n",
            "    (2): ELU(alpha=1.0)\n",
            "    (3): MaxPool3d(kernel_size=(2, 2, 2), stride=(2, 2, 2), padding=0, dilation=1, ceil_mode=False)\n",
            "  )\n",
            "  (conv4): Sequential(\n",
            "    (0): Conv3d(256, 256, kernel_size=(3, 3, 3), stride=(1, 1, 1), padding=(1, 1, 1))\n",
            "    (1): BatchNorm3d(256, eps=1e-05, momentum=0.1, affine=True, track_running_stats=True)\n",
            "    (2): ELU(alpha=1.0)\n",
            "    (3): MaxPool3d(kernel_size=(2, 2, 2), stride=(2, 2, 2), padding=0, dilation=1, ceil_mode=False)\n",
            "  )\n",
            "  (fc1): Linear(in_features=36864, out_features=512, bias=True)\n",
            "  (fc2): Linear(in_features=512, out_features=512, bias=True)\n",
            "  (fc3): Linear(in_features=512, out_features=256, bias=True)\n",
            "  (fc4): Linear(in_features=256, out_features=11, bias=True)\n",
            ")\n"
          ],
          "name": "stdout"
        }
      ]
    },
    {
      "cell_type": "code",
      "metadata": {
        "colab": {
          "base_uri": "https://localhost:8080/",
          "height": 575
        },
        "id": "A6V8hhgrpoM4",
        "outputId": "787ec41b-6805-4f4c-f5b9-5d192c780f40"
      },
      "source": [
        "print(len(val_loader))\n",
        "x = next(iter(val_loader))\n",
        "#print(x)\n",
        "#print(x[0].shape)\n",
        "\n",
        "NUM = 15\n",
        "\n",
        "print(x[1][NUM])\n",
        "vidBatch = (x[0][NUM])\n",
        "pog = vidBatch.permute(1,2,3,0)\n",
        "pog[0]\n",
        "\n",
        "import numpy as np\n",
        "import matplotlib.pyplot as plt\n",
        "\n",
        "w = 12\n",
        "h = 12\n",
        "fig = plt.figure(figsize=(8, 8))\n",
        "columns = 8\n",
        "rows = 4\n",
        "\n",
        "for i in range(1, columns*rows):\n",
        "    #img = np.random.randint(10, size=(h,w))\n",
        "    img = pog[i].detach().numpy()\n",
        "    fig.add_subplot(rows, columns, i)\n",
        "    plt.imshow(img)\n",
        "\n",
        "plt.show()\n",
        "\n"
      ],
      "execution_count": 8,
      "outputs": [
        {
          "output_type": "stream",
          "text": [
            "211\n",
            "tensor(3)\n"
          ],
          "name": "stdout"
        },
        {
          "output_type": "error",
          "ename": "IndexError",
          "evalue": "ignored",
          "traceback": [
            "\u001b[0;31m---------------------------------------------------------------------------\u001b[0m",
            "\u001b[0;31mIndexError\u001b[0m                                Traceback (most recent call last)",
            "\u001b[0;32m<ipython-input-8-47c77eb170fd>\u001b[0m in \u001b[0;36m<module>\u001b[0;34m()\u001b[0m\n\u001b[1;32m     22\u001b[0m \u001b[0;32mfor\u001b[0m \u001b[0mi\u001b[0m \u001b[0;32min\u001b[0m \u001b[0mrange\u001b[0m\u001b[0;34m(\u001b[0m\u001b[0;36m1\u001b[0m\u001b[0;34m,\u001b[0m \u001b[0mcolumns\u001b[0m\u001b[0;34m*\u001b[0m\u001b[0mrows\u001b[0m\u001b[0;34m)\u001b[0m\u001b[0;34m:\u001b[0m\u001b[0;34m\u001b[0m\u001b[0;34m\u001b[0m\u001b[0m\n\u001b[1;32m     23\u001b[0m     \u001b[0;31m#img = np.random.randint(10, size=(h,w))\u001b[0m\u001b[0;34m\u001b[0m\u001b[0;34m\u001b[0m\u001b[0;34m\u001b[0m\u001b[0m\n\u001b[0;32m---> 24\u001b[0;31m     \u001b[0mimg\u001b[0m \u001b[0;34m=\u001b[0m \u001b[0mpog\u001b[0m\u001b[0;34m[\u001b[0m\u001b[0mi\u001b[0m\u001b[0;34m]\u001b[0m\u001b[0;34m.\u001b[0m\u001b[0mdetach\u001b[0m\u001b[0;34m(\u001b[0m\u001b[0;34m)\u001b[0m\u001b[0;34m.\u001b[0m\u001b[0mnumpy\u001b[0m\u001b[0;34m(\u001b[0m\u001b[0;34m)\u001b[0m\u001b[0;34m\u001b[0m\u001b[0;34m\u001b[0m\u001b[0m\n\u001b[0m\u001b[1;32m     25\u001b[0m     \u001b[0mfig\u001b[0m\u001b[0;34m.\u001b[0m\u001b[0madd_subplot\u001b[0m\u001b[0;34m(\u001b[0m\u001b[0mrows\u001b[0m\u001b[0;34m,\u001b[0m \u001b[0mcolumns\u001b[0m\u001b[0;34m,\u001b[0m \u001b[0mi\u001b[0m\u001b[0;34m)\u001b[0m\u001b[0;34m\u001b[0m\u001b[0;34m\u001b[0m\u001b[0m\n\u001b[1;32m     26\u001b[0m     \u001b[0mplt\u001b[0m\u001b[0;34m.\u001b[0m\u001b[0mimshow\u001b[0m\u001b[0;34m(\u001b[0m\u001b[0mimg\u001b[0m\u001b[0;34m)\u001b[0m\u001b[0;34m\u001b[0m\u001b[0;34m\u001b[0m\u001b[0m\n",
            "\u001b[0;31mIndexError\u001b[0m: index 18 is out of bounds for dimension 0 with size 18"
          ]
        },
        {
          "output_type": "display_data",
          "data": {
            "image/png": "[encoded data removed]",
            "text/plain": [
              "<Figure size 576x576 with 17 Axes>"
            ]
          },
          "metadata": {
            "tags": [],
            "needs_background": "light"
          }
        }
      ]
    },
    {
      "cell_type": "code",
      "metadata": {
        "colab": {
          "base_uri": "https://localhost:8080/",
          "height": 1000
        },
        "id": "4E0RMXLAezR9",
        "outputId": "bace0a1e-0587-4fc2-91c8-7742b61f32d7"
      },
      "source": [
        "import matplotlib.pyplot as plt\n",
        "from tqdm import tqdm\n",
        "\n",
        "net.cuda()\n",
        "torch.cuda.empty_cache()\n",
        "\n",
        "val_losses = []\n",
        "train_losses = []\n",
        "min_valid_loss = 1e99\n",
        "correct, total = 0, 0\n",
        "\n",
        "scheduler = ReduceLROnPlateau(optimizer, 'min', patience=5, verbose=True)\n",
        "\n",
        "for epoch in range(EPOCHS):\n",
        "    train_loss = 0.0\n",
        "    net.train()\n",
        "\n",
        "    print(\"EPOCH: \", epoch)\n",
        "    for i, (input, target) in enumerate(tqdm(train_loader)):\n",
        "      #print(i)\n",
        "      input, target = input.to(device = device), target.to(device = device)\n",
        "      optimizer.zero_grad()\n",
        "      output = net(input)\n",
        "      loss = criterion(output, target)\n",
        "      train_loss += loss.item()\n",
        "      loss.backward()\n",
        "      optimizer.step()\n",
        "\n",
        "    net.eval()\n",
        "    validation_loss = 0.0\n",
        "\n",
        "\n",
        "    with torch.no_grad():\n",
        "      for i, (item, truth) in enumerate(val_loader):\n",
        "        item, truth = item.to(device = device), truth.to(device = device)\n",
        "        out = net(item)\n",
        "        #print(torch.argmax(out, dim=1), truth)\n",
        "        # [predictions] and [truth]\n",
        "        matching = torch.eq(torch.argmax(out, dim=1), truth)\n",
        "        #print(torch.sum(matching, dim=0).item())\n",
        "        # [boolean array]\n",
        "        correct += torch.sum(matching, dim=0).item()\n",
        "        total += 32\n",
        "        valLoss = criterion(out, truth)\n",
        "        validation_loss += valLoss.item()   \n",
        "\n",
        "    #print(correct, total)\n",
        "    accuracy = correct / total\n",
        "    validation_loss /= (len(val_loader) * config[\"batch_size\"]) #len val loader is the number of val batches\n",
        "    train_loss /= (len(train_loader) * config[\"batch_size\"])\n",
        "    \n",
        "    scheduler.step(validation_loss)\n",
        "\n",
        "    if validation_loss < min_valid_loss:\n",
        "      min_valid_loss = validation_loss\n",
        "      torch.save(net.state_dict(), '/content/drive/MyDrive/july26.pt')\n",
        "      print()\n",
        "      print(\"model saved!\")\n",
        "      \n",
        "    train_losses.append(train_loss)\n",
        "    val_losses.append(validation_loss)\n",
        "\n",
        "    print()\n",
        "    print(\"TRAIN LOSS: \", train_loss, \"VALIDATION LOSS:\", validation_loss, )\n",
        "    print(\"VALIDATION ACCURACY\", accuracy)\n",
        "\n",
        "\n",
        "\n",
        "plt.figure(figsize=(10,5))\n",
        "plt.title(\"Training and Validation Loss\")\n",
        "plt.plot(val_losses,label=\"val\")\n",
        "plt.plot(train_losses,label=\"train\")\n",
        "plt.xlabel(\"iterations\")\n",
        "plt.ylabel(\"Loss\")\n",
        "plt.legend()\n",
        "plt.show()\n",
        "\n"
      ],
      "execution_count": 9,
      "outputs": [
        {
          "output_type": "stream",
          "text": [
            "\r  0%|          | 0/1639 [00:00<?, ?it/s]"
          ],
          "name": "stderr"
        },
        {
          "output_type": "stream",
          "text": [
            "EPOCH:  0\n"
          ],
          "name": "stdout"
        },
        {
          "output_type": "stream",
          "text": [
            "100%|██████████| 1639/1639 [17:23<00:00,  1.57it/s]\n",
            "  0%|          | 0/1639 [00:00<?, ?it/s]"
          ],
          "name": "stderr"
        },
        {
          "output_type": "stream",
          "text": [
            "\n",
            "TRAIN LOSS:  1.4161742175039975 VALIDATION LOSS: 0.7990540894569379\n",
            "VALIDATION ACCURACY 0.7505924170616114\n",
            "EPOCH:  1\n"
          ],
          "name": "stdout"
        },
        {
          "output_type": "stream",
          "text": [
            "100%|██████████| 1639/1639 [17:03<00:00,  1.60it/s]\n",
            "  0%|          | 0/1639 [00:00<?, ?it/s]"
          ],
          "name": "stderr"
        },
        {
          "output_type": "stream",
          "text": [
            "\n",
            "TRAIN LOSS:  0.831914783187797 VALIDATION LOSS: 0.7721334189459046\n",
            "VALIDATION ACCURACY 0.768068720379147\n",
            "EPOCH:  2\n"
          ],
          "name": "stdout"
        },
        {
          "output_type": "stream",
          "text": [
            "100%|██████████| 1639/1639 [17:01<00:00,  1.60it/s]\n",
            "  0%|          | 0/1639 [00:00<?, ?it/s]"
          ],
          "name": "stderr"
        },
        {
          "output_type": "stream",
          "text": [
            "\n",
            "TRAIN LOSS:  0.6100118936285549 VALIDATION LOSS: 0.7088281593828405\n",
            "VALIDATION ACCURACY 0.7817436808846762\n",
            "EPOCH:  3\n"
          ],
          "name": "stdout"
        },
        {
          "output_type": "stream",
          "text": [
            "100%|██████████| 1639/1639 [17:18<00:00,  1.58it/s]\n",
            "  0%|          | 0/1639 [00:00<?, ?it/s]"
          ],
          "name": "stderr"
        },
        {
          "output_type": "stream",
          "text": [
            "\n",
            "TRAIN LOSS:  0.527131560403465 VALIDATION LOSS: 0.5981617351702604\n",
            "VALIDATION ACCURACY 0.7960974526066351\n",
            "EPOCH:  4\n"
          ],
          "name": "stdout"
        },
        {
          "output_type": "stream",
          "text": [
            "100%|██████████| 1639/1639 [17:39<00:00,  1.55it/s]\n",
            "  0%|          | 0/1639 [00:00<?, ?it/s]"
          ],
          "name": "stderr"
        },
        {
          "output_type": "stream",
          "text": [
            "\n",
            "TRAIN LOSS:  0.4979258684919894 VALIDATION LOSS: 0.6670481836096653\n",
            "VALIDATION ACCURACY 0.8077310426540284\n",
            "EPOCH:  5\n"
          ],
          "name": "stdout"
        },
        {
          "output_type": "stream",
          "text": [
            "100%|██████████| 1639/1639 [17:09<00:00,  1.59it/s]\n",
            "  0%|          | 0/1639 [00:00<?, ?it/s]"
          ],
          "name": "stderr"
        },
        {
          "output_type": "stream",
          "text": [
            "\n",
            "TRAIN LOSS:  0.5462922917694862 VALIDATION LOSS: 0.9449889801477934\n",
            "VALIDATION ACCURACY 0.8076125592417062\n",
            "EPOCH:  6\n"
          ],
          "name": "stdout"
        },
        {
          "output_type": "stream",
          "text": [
            "100%|██████████| 1639/1639 [16:56<00:00,  1.61it/s]\n",
            "  0%|          | 0/1639 [00:00<?, ?it/s]"
          ],
          "name": "stderr"
        },
        {
          "output_type": "stream",
          "text": [
            "\n",
            "TRAIN LOSS:  0.688499231448967 VALIDATION LOSS: 1.2254300121729973\n",
            "VALIDATION ACCURACY 0.7991283006093433\n",
            "EPOCH:  7\n"
          ],
          "name": "stdout"
        },
        {
          "output_type": "stream",
          "text": [
            "100%|██████████| 1639/1639 [16:59<00:00,  1.61it/s]\n",
            "  0%|          | 0/1639 [00:00<?, ?it/s]"
          ],
          "name": "stderr"
        },
        {
          "output_type": "stream",
          "text": [
            "\n",
            "TRAIN LOSS:  0.9848326987733518 VALIDATION LOSS: 2.7847553737355635\n",
            "VALIDATION ACCURACY 0.7759182464454977\n",
            "EPOCH:  8\n"
          ],
          "name": "stdout"
        },
        {
          "output_type": "stream",
          "text": [
            "100%|██████████| 1639/1639 [16:57<00:00,  1.61it/s]\n",
            "  0%|          | 0/1639 [00:00<?, ?it/s]"
          ],
          "name": "stderr"
        },
        {
          "output_type": "stream",
          "text": [
            "\n",
            "TRAIN LOSS:  1.1703832628383841 VALIDATION LOSS: 1.243110946851884\n",
            "VALIDATION ACCURACY 0.7772676408636124\n",
            "EPOCH:  9\n"
          ],
          "name": "stdout"
        },
        {
          "output_type": "stream",
          "text": [
            "100%|██████████| 1639/1639 [16:51<00:00,  1.62it/s]\n",
            "  0%|          | 0/1639 [00:00<?, ?it/s]"
          ],
          "name": "stderr"
        },
        {
          "output_type": "stream",
          "text": [
            "Epoch    10: reducing learning rate of group 0 to 1.0000e-04.\n",
            "\n",
            "TRAIN LOSS:  1.1385870836243315 VALIDATION LOSS: 1.5139049521130974\n",
            "VALIDATION ACCURACY 0.7767031990521327\n",
            "EPOCH:  10\n"
          ],
          "name": "stdout"
        },
        {
          "output_type": "stream",
          "text": [
            "100%|██████████| 1639/1639 [16:50<00:00,  1.62it/s]\n",
            "  0%|          | 0/1639 [00:00<?, ?it/s]"
          ],
          "name": "stderr"
        },
        {
          "output_type": "stream",
          "text": [
            "\n",
            "TRAIN LOSS:  0.33557347091263734 VALIDATION LOSS: 0.6406376895746348\n",
            "VALIDATION ACCURACY 0.7853430633347694\n",
            "EPOCH:  11\n"
          ],
          "name": "stdout"
        },
        {
          "output_type": "stream",
          "text": [
            "100%|██████████| 1639/1639 [17:25<00:00,  1.57it/s]\n",
            "  0%|          | 0/1639 [00:00<?, ?it/s]"
          ],
          "name": "stderr"
        },
        {
          "output_type": "stream",
          "text": [
            "\n",
            "TRAIN LOSS:  0.21197989029847336 VALIDATION LOSS: 0.6493123081552474\n",
            "VALIDATION ACCURACY 0.7929996050552922\n",
            "EPOCH:  12\n"
          ],
          "name": "stdout"
        },
        {
          "output_type": "stream",
          "text": [
            "100%|██████████| 1639/1639 [17:04<00:00,  1.60it/s]\n",
            "  0%|          | 0/1639 [00:00<?, ?it/s]"
          ],
          "name": "stderr"
        },
        {
          "output_type": "stream",
          "text": [
            "\n",
            "TRAIN LOSS:  0.1710518399669216 VALIDATION LOSS: 0.6823933145375614\n",
            "VALIDATION ACCURACY 0.7995351804593511\n",
            "EPOCH:  13\n"
          ],
          "name": "stdout"
        },
        {
          "output_type": "stream",
          "text": [
            "100%|██████████| 1639/1639 [17:00<00:00,  1.61it/s]\n",
            "  0%|          | 0/1639 [00:00<?, ?it/s]"
          ],
          "name": "stderr"
        },
        {
          "output_type": "stream",
          "text": [
            "\n",
            "TRAIN LOSS:  0.14579465052559457 VALIDATION LOSS: 0.693740755566771\n",
            "VALIDATION ACCURACY 0.8053381008801624\n",
            "EPOCH:  14\n"
          ],
          "name": "stdout"
        },
        {
          "output_type": "stream",
          "text": [
            "100%|██████████| 1639/1639 [17:03<00:00,  1.60it/s]\n",
            "  0%|          | 0/1639 [00:00<?, ?it/s]"
          ],
          "name": "stderr"
        },
        {
          "output_type": "stream",
          "text": [
            "\n",
            "TRAIN LOSS:  0.12524526610739584 VALIDATION LOSS: 0.7292695532583795\n",
            "VALIDATION ACCURACY 0.8101599526066351\n",
            "EPOCH:  15\n"
          ],
          "name": "stdout"
        },
        {
          "output_type": "stream",
          "text": [
            "100%|██████████| 1639/1639 [17:00<00:00,  1.61it/s]\n",
            "  0%|          | 0/1639 [00:00<?, ?it/s]"
          ],
          "name": "stderr"
        },
        {
          "output_type": "stream",
          "text": [
            "Epoch    16: reducing learning rate of group 0 to 1.0000e-05.\n",
            "\n",
            "TRAIN LOSS:  0.10991323319628628 VALIDATION LOSS: 0.7586226999777329\n",
            "VALIDATION ACCURACY 0.8145549466824644\n",
            "EPOCH:  16\n"
          ],
          "name": "stdout"
        },
        {
          "output_type": "stream",
          "text": [
            "100%|██████████| 1639/1639 [16:55<00:00,  1.61it/s]\n",
            "  0%|          | 0/1639 [00:00<?, ?it/s]"
          ],
          "name": "stderr"
        },
        {
          "output_type": "stream",
          "text": [
            "\n",
            "TRAIN LOSS:  0.08906127060782716 VALIDATION LOSS: 0.7663910150730991\n",
            "VALIDATION ACCURACY 0.8184328826317256\n",
            "EPOCH:  17\n"
          ],
          "name": "stdout"
        },
        {
          "output_type": "stream",
          "text": [
            "100%|██████████| 1639/1639 [16:57<00:00,  1.61it/s]\n",
            "  0%|          | 0/1639 [00:00<?, ?it/s]"
          ],
          "name": "stderr"
        },
        {
          "output_type": "stream",
          "text": [
            "\n",
            "TRAIN LOSS:  0.08735063009579362 VALIDATION LOSS: 0.7807009635731508\n",
            "VALIDATION ACCURACY 0.8218552527646129\n",
            "EPOCH:  18\n"
          ],
          "name": "stdout"
        },
        {
          "output_type": "stream",
          "text": [
            "100%|██████████| 1639/1639 [17:03<00:00,  1.60it/s]\n",
            "  0%|          | 0/1639 [00:00<?, ?it/s]"
          ],
          "name": "stderr"
        },
        {
          "output_type": "stream",
          "text": [
            "\n",
            "TRAIN LOSS:  0.084946590595141 VALIDATION LOSS: 0.7790887936402412\n",
            "VALIDATION ACCURACY 0.8249563482165129\n",
            "EPOCH:  19\n"
          ],
          "name": "stdout"
        },
        {
          "output_type": "stream",
          "text": [
            "100%|██████████| 1639/1639 [17:03<00:00,  1.60it/s]\n"
          ],
          "name": "stderr"
        },
        {
          "output_type": "stream",
          "text": [
            "\n",
            "TRAIN LOSS:  0.08403482811897013 VALIDATION LOSS: 0.7891066249954333\n",
            "VALIDATION ACCURACY 0.8276954976303318\n"
          ],
          "name": "stdout"
        },
        {
          "output_type": "display_data",
          "data": {
            "image/png": "[encoded data removed]",
            "text/plain": [
              "<Figure size 720x360 with 1 Axes>"
            ]
          },
          "metadata": {
            "tags": [],
            "needs_background": "light"
          }
        }
      ]
    },
    {
      "cell_type": "code",
      "metadata": {
        "id": "V70pPYDUBphW"
      },
      "source": [
        "torch.save(net.state_dict(), '/content/drive/MyDrive/latest.pt')"
      ],
      "execution_count": 10,
      "outputs": []
    }
  ]
}