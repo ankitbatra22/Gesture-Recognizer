{
  "nbformat": 4,
  "nbformat_minor": 0,
  "metadata": {
    "accelerator": "GPU",
    "colab": {
      "name": "gesture-detect.ipynb",
      "provenance": [],
      "collapsed_sections": [],
      "authorship_tag": "ABX9TyNlxGmcK/j013T+ohH6XSZo",
      "include_colab_link": true
    },
    "kernelspec": {
      "display_name": "Python 3",
      "name": "python3"
    },
    "language_info": {
      "name": "python"
    }
  },
  "cells": [
    {
      "cell_type": "markdown",
      "metadata": {
        "id": "view-in-github",
        "colab_type": "text"
      },
      "source": [
        "<a href=\"https://colab.research.google.com/github/ankitbatra22/Gesture-Recognizer/blob/develop/gesture_detect.ipynb\" target=\"_parent\"><img src=\"https://colab.research.google.com/assets/colab-badge.svg\" alt=\"Open In Colab\"/></a>"
      ]
    },
    {
      "cell_type": "code",
      "metadata": {
        "id": "JZnMxOWKLjIM",
        "colab": {
          "base_uri": "https://localhost:8080/"
        },
        "outputId": "23a4096b-6d41-4ca6-a700-9090997bd9f7"
      },
      "source": [
        "!git clone https://github.com/ankitbatra22/Gesture-Recognizer.git\n",
        "%cd Gesture-Recognizer/\n",
        "!git checkout develop"
      ],
      "execution_count": 1,
      "outputs": [
        {
          "output_type": "stream",
          "text": [
            "Cloning into 'Gesture-Recognizer'...\n",
            "remote: Enumerating objects: 86, done.\u001b[K\n",
            "remote: Counting objects: 100% (86/86), done.\u001b[K\n",
            "remote: Compressing objects: 100% (64/64), done.\u001b[K\n",
            "remote: Total 86 (delta 34), reused 57 (delta 16), pack-reused 0\u001b[K\n",
            "Unpacking objects: 100% (86/86), done.\n",
            "/content/Gesture-Recognizer\n",
            "Branch 'develop' set up to track remote branch 'develop' from 'origin'.\n",
            "Switched to a new branch 'develop'\n"
          ],
          "name": "stdout"
        }
      ]
    },
    {
      "cell_type": "code",
      "metadata": {
        "id": "RhrVEU-kuPqC",
        "outputId": "8d3e514d-a7d7-4c61-bc84-606956e0c3ba",
        "colab": {
          "base_uri": "https://localhost:8080/"
        }
      },
      "source": [
        "!pwd\n",
        "%cd Gesture-Recognizer/"
      ],
      "execution_count": 2,
      "outputs": [
        {
          "output_type": "stream",
          "text": [
            "/content\n",
            "/content/Gesture-Recognizer\n"
          ],
          "name": "stdout"
        }
      ]
    },
    {
      "cell_type": "code",
      "metadata": {
        "id": "AdHRoJY5wAXR"
      },
      "source": [
        "import torch\n",
        "import torch.nn as nn\n",
        "from preprocessing import VideoFolder\n",
        "import json\n",
        "from torchvision.transforms import *\n",
        "import cv2\n",
        "from PIL import Image as im\n",
        "from matplotlib import pyplot as plt\n",
        "import torch.optim as optim\n",
        "import os\n",
        "import tqdm\n",
        "import numpy as np\n",
        "from torch.optim.lr_scheduler import ReduceLROnPlateau"
      ],
      "execution_count": 3,
      "outputs": []
    },
    {
      "cell_type": "code",
      "metadata": {
        "colab": {
          "base_uri": "https://localhost:8080/"
        },
        "id": "7vWvthZ1Lonj",
        "outputId": "23572904-fe27-4e4e-d8b5-1a0c9196831d"
      },
      "source": [
        "from google.colab import drive\n",
        "drive.mount('/content/drive')"
      ],
      "execution_count": 4,
      "outputs": [
        {
          "output_type": "stream",
          "text": [
            "Drive already mounted at /content/drive; to attempt to forcibly remount, call drive.mount(\"/content/drive\", force_remount=True).\n"
          ],
          "name": "stdout"
        }
      ]
    },
    {
      "cell_type": "code",
      "metadata": {
        "id": "uFVIWBl0L3yA"
      },
      "source": [
        "%%capture\n",
        "!unzip '/content/drive/MyDrive/20bn-jester-v1-sub.zip'"
      ],
      "execution_count": 4,
      "outputs": []
    },
    {
      "cell_type": "code",
      "metadata": {
        "id": "aOJjchKna4-I"
      },
      "source": [
        "import json\n",
        "import os\n",
        "\n",
        "with open(\"./configs/config.json\") as dataFile:\n",
        "  config = json.load(dataFile)\n",
        "\n",
        "save_dir = os.path.join(config[\"output_dir\"], config[\"model_name\"])\n",
        "\n",
        "transform = Compose([\n",
        "        CenterCrop(100),\n",
        "        #Resize(size=(300,300)),\n",
        "        ToTensor()\n",
        "        #Normalize(mean=[0.485, 0.456, 0.406],\n",
        "                  #std=[0.229, 0.224, 0.225])\n",
        "    ])"
      ],
      "execution_count": 5,
      "outputs": []
    },
    {
      "cell_type": "code",
      "metadata": {
        "id": "p9EHq7qddpmC"
      },
      "source": [
        "train_data = VideoFolder(root=config['train_data_folder'],\n",
        "                             csv_file_input=config['train_data_csv'],\n",
        "                             csv_file_labels=config['labels_csv'],\n",
        "                             clip_size=config['clip_size'],\n",
        "                             nclips=1,\n",
        "                             step_size=config['step_size'],\n",
        "                             is_val=False,\n",
        "                             transform=transform,\n",
        "                             )\n",
        "\n",
        "train_loader = torch.utils.data.DataLoader(\n",
        "        train_data,\n",
        "        batch_size=config['batch_size'], shuffle=True,\n",
        "        num_workers=config['num_workers'], pin_memory=True,\n",
        "        drop_last=True)\n",
        "  \n",
        "val_data = VideoFolder(root=config['val_data_folder'],\n",
        "                          csv_file_input=config['val_data_csv'],\n",
        "                          csv_file_labels=config['labels_csv'],\n",
        "                          clip_size=config['clip_size'],\n",
        "                          nclips=1,\n",
        "                          step_size=config['step_size'],\n",
        "                          is_val=True,\n",
        "                          transform=transform,\n",
        "                          )\n",
        "\n",
        "val_loader = torch.utils.data.DataLoader(\n",
        "    val_data,\n",
        "    batch_size=config['batch_size'], shuffle=False,\n",
        "    num_workers=config['num_workers'], pin_memory=True,\n",
        "    drop_last=False)"
      ],
      "execution_count": 6,
      "outputs": []
    },
    {
      "cell_type": "code",
      "metadata": {
        "colab": {
          "base_uri": "https://localhost:8080/"
        },
        "id": "_cXOktD9eiqJ",
        "outputId": "c64725d8-eda0-4b99-f448-f520d076aeae"
      },
      "source": [
        "from model import Net\n",
        "\n",
        "device = (torch.device('cuda') if torch.cuda.is_available()\n",
        "else torch.device('cpu'))\n",
        "print(torch.cuda.get_device_name(0))\n",
        "print(torch.cuda.is_available())\n",
        "\n",
        "net = Net()\n",
        "print(net)\n",
        "optimizer = torch.optim.Adam(net.parameters(), config['lr'],\n",
        "                                #momentum=config['momentum'],\n",
        "                                weight_decay=config['weight_decay'])\n",
        "\n",
        "criterion = nn.CrossEntropyLoss(reduction='sum')\n",
        "EPOCHS = 28"
      ],
      "execution_count": 7,
      "outputs": [
        {
          "output_type": "stream",
          "text": [
            "Tesla P100-PCIE-16GB\n",
            "True\n",
            "Net(\n",
            "  (conv1): Sequential(\n",
            "    (0): Conv3d(3, 64, kernel_size=(3, 3, 3), stride=(1, 1, 1), padding=(1, 1, 1))\n",
            "    (1): BatchNorm3d(64, eps=1e-05, momentum=0.1, affine=True, track_running_stats=True)\n",
            "    (2): ELU(alpha=1.0)\n",
            "    (3): MaxPool3d(kernel_size=(1, 2, 2), stride=(1, 2, 2), padding=0, dilation=1, ceil_mode=False)\n",
            "  )\n",
            "  (conv2): Sequential(\n",
            "    (0): Conv3d(64, 128, kernel_size=(3, 3, 3), stride=(1, 1, 1), padding=(1, 1, 1))\n",
            "    (1): BatchNorm3d(128, eps=1e-05, momentum=0.1, affine=True, track_running_stats=True)\n",
            "    (2): ELU(alpha=1.0)\n",
            "    (3): MaxPool3d(kernel_size=(1, 2, 2), stride=(1, 2, 2), padding=0, dilation=1, ceil_mode=False)\n",
            "  )\n",
            "  (conv3): Sequential(\n",
            "    (0): Conv3d(128, 256, kernel_size=(3, 3, 3), stride=(1, 1, 1), padding=(1, 1, 1))\n",
            "    (1): BatchNorm3d(256, eps=1e-05, momentum=0.1, affine=True, track_running_stats=True)\n",
            "    (2): ELU(alpha=1.0)\n",
            "    (3): MaxPool3d(kernel_size=(2, 2, 2), stride=(2, 2, 2), padding=0, dilation=1, ceil_mode=False)\n",
            "  )\n",
            "  (conv4): Sequential(\n",
            "    (0): Conv3d(256, 256, kernel_size=(3, 3, 3), stride=(1, 1, 1), padding=(1, 1, 1))\n",
            "    (1): BatchNorm3d(256, eps=1e-05, momentum=0.1, affine=True, track_running_stats=True)\n",
            "    (2): ELU(alpha=1.0)\n",
            "    (3): MaxPool3d(kernel_size=(2, 2, 2), stride=(2, 2, 2), padding=0, dilation=1, ceil_mode=False)\n",
            "  )\n",
            "  (fc1): Linear(in_features=36864, out_features=512, bias=True)\n",
            "  (fc2): Linear(in_features=512, out_features=512, bias=True)\n",
            "  (fc3): Linear(in_features=512, out_features=256, bias=True)\n",
            "  (fc4): Linear(in_features=256, out_features=11, bias=True)\n",
            ")\n"
          ],
          "name": "stdout"
        }
      ]
    },
    {
      "cell_type": "code",
      "metadata": {
        "colab": {
          "base_uri": "https://localhost:8080/",
          "height": 575
        },
        "id": "A6V8hhgrpoM4",
        "outputId": "daa4ce8d-cbfe-4ec7-b791-779fa30f66a4"
      },
      "source": [
        "print(len(val_loader))\n",
        "x = next(iter(val_loader))\n",
        "#print(x)\n",
        "#print(x[0].shape)\n",
        "\n",
        "NUM = 24\n",
        "\n",
        "print(x[1][NUM])\n",
        "vidBatch = (x[0][NUM])\n",
        "pog = vidBatch.permute(1,2,3,0)\n",
        "pog[0]\n",
        "\n",
        "import numpy as np\n",
        "import matplotlib.pyplot as plt\n",
        "\n",
        "w = 12\n",
        "h = 12\n",
        "fig = plt.figure(figsize=(8, 8))\n",
        "columns = 8\n",
        "rows = 4\n",
        "\n",
        "for i in range(1, columns*rows):\n",
        "    #img = np.random.randint(10, size=(h,w))\n",
        "    img = pog[i].detach().numpy()\n",
        "    fig.add_subplot(rows, columns, i)\n",
        "    plt.imshow(img)\n",
        "\n",
        "plt.show()\n",
        "\n"
      ],
      "execution_count": 8,
      "outputs": [
        {
          "output_type": "stream",
          "text": [
            "211\n",
            "tensor(9)\n"
          ],
          "name": "stdout"
        },
        {
          "output_type": "error",
          "ename": "IndexError",
          "evalue": "ignored",
          "traceback": [
            "\u001b[0;31m---------------------------------------------------------------------------\u001b[0m",
            "\u001b[0;31mIndexError\u001b[0m                                Traceback (most recent call last)",
            "\u001b[0;32m<ipython-input-8-d8d3647a117f>\u001b[0m in \u001b[0;36m<module>\u001b[0;34m()\u001b[0m\n\u001b[1;32m     22\u001b[0m \u001b[0;32mfor\u001b[0m \u001b[0mi\u001b[0m \u001b[0;32min\u001b[0m \u001b[0mrange\u001b[0m\u001b[0;34m(\u001b[0m\u001b[0;36m1\u001b[0m\u001b[0;34m,\u001b[0m \u001b[0mcolumns\u001b[0m\u001b[0;34m*\u001b[0m\u001b[0mrows\u001b[0m\u001b[0;34m)\u001b[0m\u001b[0;34m:\u001b[0m\u001b[0;34m\u001b[0m\u001b[0;34m\u001b[0m\u001b[0m\n\u001b[1;32m     23\u001b[0m     \u001b[0;31m#img = np.random.randint(10, size=(h,w))\u001b[0m\u001b[0;34m\u001b[0m\u001b[0;34m\u001b[0m\u001b[0;34m\u001b[0m\u001b[0m\n\u001b[0;32m---> 24\u001b[0;31m     \u001b[0mimg\u001b[0m \u001b[0;34m=\u001b[0m \u001b[0mpog\u001b[0m\u001b[0;34m[\u001b[0m\u001b[0mi\u001b[0m\u001b[0;34m]\u001b[0m\u001b[0;34m.\u001b[0m\u001b[0mdetach\u001b[0m\u001b[0;34m(\u001b[0m\u001b[0;34m)\u001b[0m\u001b[0;34m.\u001b[0m\u001b[0mnumpy\u001b[0m\u001b[0;34m(\u001b[0m\u001b[0;34m)\u001b[0m\u001b[0;34m\u001b[0m\u001b[0;34m\u001b[0m\u001b[0m\n\u001b[0m\u001b[1;32m     25\u001b[0m     \u001b[0mfig\u001b[0m\u001b[0;34m.\u001b[0m\u001b[0madd_subplot\u001b[0m\u001b[0;34m(\u001b[0m\u001b[0mrows\u001b[0m\u001b[0;34m,\u001b[0m \u001b[0mcolumns\u001b[0m\u001b[0;34m,\u001b[0m \u001b[0mi\u001b[0m\u001b[0;34m)\u001b[0m\u001b[0;34m\u001b[0m\u001b[0;34m\u001b[0m\u001b[0m\n\u001b[1;32m     26\u001b[0m     \u001b[0mplt\u001b[0m\u001b[0;34m.\u001b[0m\u001b[0mimshow\u001b[0m\u001b[0;34m(\u001b[0m\u001b[0mimg\u001b[0m\u001b[0;34m)\u001b[0m\u001b[0;34m\u001b[0m\u001b[0;34m\u001b[0m\u001b[0m\n",
            "\u001b[0;31mIndexError\u001b[0m: index 18 is out of bounds for dimension 0 with size 18"
          ]
        },
        {
          "output_type": "display_data",
          "data": {
            "image/png": "[encoded data removed]",
            "text/plain": [
              "<Figure size 576x576 with 17 Axes>"
            ]
          },
          "metadata": {
            "tags": [],
            "needs_background": "light"
          }
        }
      ]
    },
    {
      "cell_type": "code",
      "metadata": {
        "colab": {
          "base_uri": "https://localhost:8080/",
          "height": 1000
        },
        "id": "4E0RMXLAezR9",
        "outputId": "a119e8f6-6845-44db-a1f7-592f8922dfb9"
      },
      "source": [
        "import matplotlib.pyplot as plt\n",
        "from tqdm import tqdm\n",
        "\n",
        "net.cuda()\n",
        "torch.cuda.empty_cache()\n",
        "\n",
        "val_losses = []\n",
        "train_losses = []\n",
        "min_valid_loss = 1e99\n",
        "\n",
        "\n",
        "scheduler = ReduceLROnPlateau(optimizer, 'min', patience=3, verbose=True)\n",
        "\n",
        "for epoch in range(EPOCHS):\n",
        "    correct, total = 0, 0\n",
        "    train_loss = 0.0\n",
        "    net.train()\n",
        "\n",
        "    print(\"EPOCH: \", epoch)\n",
        "    for i, (input, target) in enumerate(tqdm(train_loader)):\n",
        "      #print(i)\n",
        "      input, target = input.to(device = device), target.to(device = device)\n",
        "      optimizer.zero_grad()\n",
        "      output = net(input)\n",
        "      loss = criterion(output, target)\n",
        "      train_loss += loss.item()\n",
        "      loss.backward()\n",
        "      optimizer.step()\n",
        "\n",
        "    net.eval()\n",
        "    validation_loss = 0.0\n",
        "\n",
        "\n",
        "    with torch.no_grad():\n",
        "      for i, (item, truth) in enumerate(val_loader):\n",
        "        item, truth = item.to(device = device), truth.to(device = device)\n",
        "        out = net(item)\n",
        "        #print(torch.argmax(out, dim=1), truth)\n",
        "        # [predictions] and [truth]\n",
        "        matching = torch.eq(torch.argmax(out, dim=1), truth)\n",
        "        #print(torch.sum(matching, dim=0).item())\n",
        "        # [boolean array]\n",
        "        correct += torch.sum(matching, dim=0).item()\n",
        "        total += 32\n",
        "        valLoss = criterion(out, truth)\n",
        "        validation_loss += valLoss.item()   \n",
        "\n",
        "    # test accuracy calculation\n",
        "    assert total == (len(val_loader) * config[\"batch_size\"])\n",
        "    #print(correct, total)\n",
        "    accuracy = correct / total\n",
        "    validation_loss /= (len(val_loader) * config[\"batch_size\"]) #len val loader is the number of val batches\n",
        "    train_loss /= (len(train_loader) * config[\"batch_size\"])\n",
        "    \n",
        "    scheduler.step(validation_loss)\n",
        "\n",
        "    if validation_loss < min_valid_loss:\n",
        "      min_valid_loss = validation_loss\n",
        "      torch.save(net.state_dict(), '/content/drive/MyDrive/july29.pt')\n",
        "      print()\n",
        "      print(\"model saved!\")\n",
        "      \n",
        "    train_losses.append(train_loss)\n",
        "    val_losses.append(validation_loss)\n",
        "\n",
        "    print()\n",
        "    print(\"TRAIN LOSS: \", train_loss, \"VALIDATION LOSS:\", validation_loss, )\n",
        "    print(\"VALIDATION ACCURACY\", accuracy)\n",
        "\n",
        "\n",
        "\n",
        "plt.figure(figsize=(10,5))\n",
        "plt.title(\"Training and Validation Loss\")\n",
        "plt.plot(val_losses,label=\"val\")\n",
        "plt.plot(train_losses,label=\"train\")\n",
        "plt.xlabel(\"iterations\")\n",
        "plt.ylabel(\"Loss\")\n",
        "plt.legend()\n",
        "plt.show()\n",
        "\n"
      ],
      "execution_count": 9,
      "outputs": [
        {
          "output_type": "stream",
          "text": [
            "\r  0%|          | 0/1639 [00:00<?, ?it/s]"
          ],
          "name": "stderr"
        },
        {
          "output_type": "stream",
          "text": [
            "EPOCH:  0\n"
          ],
          "name": "stdout"
        },
        {
          "output_type": "stream",
          "text": [
            "100%|██████████| 1639/1639 [16:58<00:00,  1.61it/s]\n",
            "  0%|          | 0/1639 [00:00<?, ?it/s]"
          ],
          "name": "stderr"
        },
        {
          "output_type": "stream",
          "text": [
            "\n",
            "model saved!\n",
            "\n",
            "TRAIN LOSS:  0.8859910013709874 VALIDATION LOSS: 0.5192734619240625\n",
            "VALIDATION ACCURACY 0.8363447867298578\n",
            "EPOCH:  1\n"
          ],
          "name": "stdout"
        },
        {
          "output_type": "stream",
          "text": [
            "100%|██████████| 1639/1639 [16:59<00:00,  1.61it/s]\n",
            "  0%|          | 0/1639 [00:00<?, ?it/s]"
          ],
          "name": "stderr"
        },
        {
          "output_type": "stream",
          "text": [
            "\n",
            "model saved!\n",
            "\n",
            "TRAIN LOSS:  0.4151017463574546 VALIDATION LOSS: 0.4640758694701285\n",
            "VALIDATION ACCURACY 0.8504146919431279\n",
            "EPOCH:  2\n"
          ],
          "name": "stdout"
        },
        {
          "output_type": "stream",
          "text": [
            "100%|██████████| 1639/1639 [17:01<00:00,  1.60it/s]\n",
            "  0%|          | 0/1639 [00:00<?, ?it/s]"
          ],
          "name": "stderr"
        },
        {
          "output_type": "stream",
          "text": [
            "\n",
            "model saved!\n",
            "\n",
            "TRAIN LOSS:  0.26906606647492254 VALIDATION LOSS: 0.38343131314451095\n",
            "VALIDATION ACCURACY 0.8829976303317536\n",
            "EPOCH:  3\n"
          ],
          "name": "stdout"
        },
        {
          "output_type": "stream",
          "text": [
            "100%|██████████| 1639/1639 [17:11<00:00,  1.59it/s]\n",
            "  0%|          | 0/1639 [00:00<?, ?it/s]"
          ],
          "name": "stderr"
        },
        {
          "output_type": "stream",
          "text": [
            "\n",
            "TRAIN LOSS:  0.16973171264979856 VALIDATION LOSS: 0.40392865576026565\n",
            "VALIDATION ACCURACY 0.8869964454976303\n",
            "EPOCH:  4\n"
          ],
          "name": "stdout"
        },
        {
          "output_type": "stream",
          "text": [
            "100%|██████████| 1639/1639 [17:17<00:00,  1.58it/s]\n",
            "  0%|          | 0/1639 [00:00<?, ?it/s]"
          ],
          "name": "stderr"
        },
        {
          "output_type": "stream",
          "text": [
            "\n",
            "TRAIN LOSS:  0.10498632584292784 VALIDATION LOSS: 0.43357418728241987\n",
            "VALIDATION ACCURACY 0.8899585308056872\n",
            "EPOCH:  5\n"
          ],
          "name": "stdout"
        },
        {
          "output_type": "stream",
          "text": [
            "100%|██████████| 1639/1639 [17:04<00:00,  1.60it/s]\n",
            "  0%|          | 0/1639 [00:00<?, ?it/s]"
          ],
          "name": "stderr"
        },
        {
          "output_type": "stream",
          "text": [
            "\n",
            "TRAIN LOSS:  0.07595956013390205 VALIDATION LOSS: 0.4435680221073259\n",
            "VALIDATION ACCURACY 0.8975118483412322\n",
            "EPOCH:  6\n"
          ],
          "name": "stdout"
        },
        {
          "output_type": "stream",
          "text": [
            "100%|██████████| 1639/1639 [17:01<00:00,  1.60it/s]\n",
            "  0%|          | 0/1639 [00:00<?, ?it/s]"
          ],
          "name": "stderr"
        },
        {
          "output_type": "stream",
          "text": [
            "Epoch     7: reducing learning rate of group 0 to 1.0000e-05.\n",
            "\n",
            "TRAIN LOSS:  0.05450352117700657 VALIDATION LOSS: 0.48902517865893047\n",
            "VALIDATION ACCURACY 0.894845971563981\n",
            "EPOCH:  7\n"
          ],
          "name": "stdout"
        },
        {
          "output_type": "stream",
          "text": [
            "100%|██████████| 1639/1639 [17:29<00:00,  1.56it/s]\n",
            "  0%|          | 0/1639 [00:00<?, ?it/s]"
          ],
          "name": "stderr"
        },
        {
          "output_type": "stream",
          "text": [
            "\n",
            "TRAIN LOSS:  0.014357690341380562 VALIDATION LOSS: 0.4183646238230222\n",
            "VALIDATION ACCURACY 0.9114336492890995\n",
            "EPOCH:  8\n"
          ],
          "name": "stdout"
        },
        {
          "output_type": "stream",
          "text": [
            "100%|██████████| 1639/1639 [17:00<00:00,  1.61it/s]\n",
            "  0%|          | 0/1639 [00:00<?, ?it/s]"
          ],
          "name": "stderr"
        },
        {
          "output_type": "stream",
          "text": [
            "\n",
            "TRAIN LOSS:  0.005421106350910786 VALIDATION LOSS: 0.43132644145908405\n",
            "VALIDATION ACCURACY 0.9117298578199052\n",
            "EPOCH:  9\n"
          ],
          "name": "stdout"
        },
        {
          "output_type": "stream",
          "text": [
            "100%|██████████| 1639/1639 [17:27<00:00,  1.56it/s]\n",
            "  0%|          | 0/1639 [00:00<?, ?it/s]"
          ],
          "name": "stderr"
        },
        {
          "output_type": "stream",
          "text": [
            "\n",
            "TRAIN LOSS:  0.002920707364958718 VALIDATION LOSS: 0.4579436564139395\n",
            "VALIDATION ACCURACY 0.9117298578199052\n",
            "EPOCH:  10\n"
          ],
          "name": "stdout"
        },
        {
          "output_type": "stream",
          "text": [
            "100%|██████████| 1639/1639 [16:59<00:00,  1.61it/s]\n",
            "  0%|          | 0/1639 [00:00<?, ?it/s]"
          ],
          "name": "stderr"
        },
        {
          "output_type": "stream",
          "text": [
            "Epoch    11: reducing learning rate of group 0 to 1.0000e-06.\n",
            "\n",
            "TRAIN LOSS:  0.0019298731282020563 VALIDATION LOSS: 0.4778535944234218\n",
            "VALIDATION ACCURACY 0.9120260663507109\n",
            "EPOCH:  11\n"
          ],
          "name": "stdout"
        },
        {
          "output_type": "stream",
          "text": [
            "100%|██████████| 1639/1639 [17:32<00:00,  1.56it/s]\n",
            "  0%|          | 0/1639 [00:00<?, ?it/s]"
          ],
          "name": "stderr"
        },
        {
          "output_type": "stream",
          "text": [
            "\n",
            "TRAIN LOSS:  0.001165596267930264 VALIDATION LOSS: 0.483690465085972\n",
            "VALIDATION ACCURACY 0.9129146919431279\n",
            "EPOCH:  12\n"
          ],
          "name": "stdout"
        },
        {
          "output_type": "stream",
          "text": [
            "100%|██████████| 1639/1639 [17:33<00:00,  1.56it/s]\n",
            "  0%|          | 0/1639 [00:00<?, ?it/s]"
          ],
          "name": "stderr"
        },
        {
          "output_type": "stream",
          "text": [
            "\n",
            "TRAIN LOSS:  0.0011306899876010932 VALIDATION LOSS: 0.48540153662217295\n",
            "VALIDATION ACCURACY 0.9133590047393365\n",
            "EPOCH:  13\n"
          ],
          "name": "stdout"
        },
        {
          "output_type": "stream",
          "text": [
            "100%|██████████| 1639/1639 [16:58<00:00,  1.61it/s]\n",
            "  0%|          | 0/1639 [00:00<?, ?it/s]"
          ],
          "name": "stderr"
        },
        {
          "output_type": "stream",
          "text": [
            "\n",
            "TRAIN LOSS:  0.0009458888361400232 VALIDATION LOSS: 0.4914596817997986\n",
            "VALIDATION ACCURACY 0.9135071090047393\n",
            "EPOCH:  14\n"
          ],
          "name": "stdout"
        },
        {
          "output_type": "stream",
          "text": [
            "100%|██████████| 1639/1639 [16:57<00:00,  1.61it/s]\n",
            "  0%|          | 0/1639 [00:00<?, ?it/s]"
          ],
          "name": "stderr"
        },
        {
          "output_type": "stream",
          "text": [
            "Epoch    15: reducing learning rate of group 0 to 1.0000e-07.\n",
            "\n",
            "TRAIN LOSS:  0.0006869564280180658 VALIDATION LOSS: 0.49547925433452944\n",
            "VALIDATION ACCURACY 0.913803317535545\n",
            "EPOCH:  15\n"
          ],
          "name": "stdout"
        },
        {
          "output_type": "stream",
          "text": [
            "100%|██████████| 1639/1639 [17:27<00:00,  1.56it/s]\n",
            "  0%|          | 0/1639 [00:00<?, ?it/s]"
          ],
          "name": "stderr"
        },
        {
          "output_type": "stream",
          "text": [
            "\n",
            "TRAIN LOSS:  0.0004612453400222498 VALIDATION LOSS: 0.5024678236534554\n",
            "VALIDATION ACCURACY 0.9143957345971564\n",
            "EPOCH:  16\n"
          ],
          "name": "stdout"
        },
        {
          "output_type": "stream",
          "text": [
            "100%|██████████| 1639/1639 [17:00<00:00,  1.61it/s]\n",
            "  0%|          | 0/1639 [00:00<?, ?it/s]"
          ],
          "name": "stderr"
        },
        {
          "output_type": "stream",
          "text": [
            "\n",
            "TRAIN LOSS:  0.0006930819508697062 VALIDATION LOSS: 0.5017150246617671\n",
            "VALIDATION ACCURACY 0.9143957345971564\n",
            "EPOCH:  17\n"
          ],
          "name": "stdout"
        },
        {
          "output_type": "stream",
          "text": [
            "100%|██████████| 1639/1639 [16:59<00:00,  1.61it/s]\n",
            "  0%|          | 0/1639 [00:00<?, ?it/s]"
          ],
          "name": "stderr"
        },
        {
          "output_type": "stream",
          "text": [
            "\n",
            "TRAIN LOSS:  0.0004670591750708886 VALIDATION LOSS: 0.49876371704889416\n",
            "VALIDATION ACCURACY 0.913803317535545\n",
            "EPOCH:  18\n"
          ],
          "name": "stdout"
        },
        {
          "output_type": "stream",
          "text": [
            "100%|██████████| 1639/1639 [17:00<00:00,  1.61it/s]\n",
            "  0%|          | 0/1639 [00:00<?, ?it/s]"
          ],
          "name": "stderr"
        },
        {
          "output_type": "stream",
          "text": [
            "Epoch    19: reducing learning rate of group 0 to 1.0000e-08.\n",
            "\n",
            "TRAIN LOSS:  0.0005576493520300833 VALIDATION LOSS: 0.5011192635783123\n",
            "VALIDATION ACCURACY 0.9142476303317536\n",
            "EPOCH:  19\n"
          ],
          "name": "stdout"
        },
        {
          "output_type": "stream",
          "text": [
            "100%|██████████| 1639/1639 [17:09<00:00,  1.59it/s]\n",
            "  0%|          | 0/1639 [00:00<?, ?it/s]"
          ],
          "name": "stderr"
        },
        {
          "output_type": "stream",
          "text": [
            "\n",
            "TRAIN LOSS:  0.0010387798628554183 VALIDATION LOSS: 0.5006713030851\n",
            "VALIDATION ACCURACY 0.9142476303317536\n",
            "EPOCH:  20\n"
          ],
          "name": "stdout"
        },
        {
          "output_type": "stream",
          "text": [
            "100%|██████████| 1639/1639 [17:02<00:00,  1.60it/s]\n",
            "  0%|          | 0/1639 [00:00<?, ?it/s]"
          ],
          "name": "stderr"
        },
        {
          "output_type": "stream",
          "text": [
            "\n",
            "TRAIN LOSS:  0.00047055774604232815 VALIDATION LOSS: 0.5017900190253243\n",
            "VALIDATION ACCURACY 0.913803317535545\n",
            "EPOCH:  21\n"
          ],
          "name": "stdout"
        },
        {
          "output_type": "stream",
          "text": [
            "100%|██████████| 1639/1639 [17:03<00:00,  1.60it/s]\n",
            "  0%|          | 0/1639 [00:00<?, ?it/s]"
          ],
          "name": "stderr"
        },
        {
          "output_type": "stream",
          "text": [
            "\n",
            "TRAIN LOSS:  0.0005819729257965764 VALIDATION LOSS: 0.4983384077786468\n",
            "VALIDATION ACCURACY 0.9143957345971564\n",
            "EPOCH:  22\n"
          ],
          "name": "stdout"
        },
        {
          "output_type": "stream",
          "text": [
            "100%|██████████| 1639/1639 [17:05<00:00,  1.60it/s]\n",
            "  0%|          | 0/1639 [00:00<?, ?it/s]"
          ],
          "name": "stderr"
        },
        {
          "output_type": "stream",
          "text": [
            "\n",
            "TRAIN LOSS:  0.0004439039129692485 VALIDATION LOSS: 0.5023851826156918\n",
            "VALIDATION ACCURACY 0.9145438388625592\n",
            "EPOCH:  23\n"
          ],
          "name": "stdout"
        },
        {
          "output_type": "stream",
          "text": [
            "100%|██████████| 1639/1639 [17:18<00:00,  1.58it/s]\n",
            "  0%|          | 0/1639 [00:00<?, ?it/s]"
          ],
          "name": "stderr"
        },
        {
          "output_type": "stream",
          "text": [
            "\n",
            "TRAIN LOSS:  0.0004524532596543401 VALIDATION LOSS: 0.5064581639885956\n",
            "VALIDATION ACCURACY 0.9143957345971564\n",
            "EPOCH:  24\n"
          ],
          "name": "stdout"
        },
        {
          "output_type": "stream",
          "text": [
            "100%|██████████| 1639/1639 [17:04<00:00,  1.60it/s]\n",
            "  0%|          | 0/1639 [00:00<?, ?it/s]"
          ],
          "name": "stderr"
        },
        {
          "output_type": "stream",
          "text": [
            "\n",
            "TRAIN LOSS:  0.00044000694093620124 VALIDATION LOSS: 0.5022784258091108\n",
            "VALIDATION ACCURACY 0.9140995260663507\n",
            "EPOCH:  25\n"
          ],
          "name": "stdout"
        },
        {
          "output_type": "stream",
          "text": [
            "100%|██████████| 1639/1639 [16:59<00:00,  1.61it/s]\n",
            "  0%|          | 0/1639 [00:00<?, ?it/s]"
          ],
          "name": "stderr"
        },
        {
          "output_type": "stream",
          "text": [
            "\n",
            "TRAIN LOSS:  0.0006090254969580098 VALIDATION LOSS: 0.5002209168061023\n",
            "VALIDATION ACCURACY 0.913803317535545\n",
            "EPOCH:  26\n"
          ],
          "name": "stdout"
        },
        {
          "output_type": "stream",
          "text": [
            "100%|██████████| 1639/1639 [17:03<00:00,  1.60it/s]\n",
            "  0%|          | 0/1639 [00:00<?, ?it/s]"
          ],
          "name": "stderr"
        },
        {
          "output_type": "stream",
          "text": [
            "\n",
            "TRAIN LOSS:  0.0007087307814301407 VALIDATION LOSS: 0.5006683900945719\n",
            "VALIDATION ACCURACY 0.9142476303317536\n",
            "EPOCH:  27\n"
          ],
          "name": "stdout"
        },
        {
          "output_type": "stream",
          "text": [
            "100%|██████████| 1639/1639 [17:32<00:00,  1.56it/s]\n"
          ],
          "name": "stderr"
        },
        {
          "output_type": "stream",
          "text": [
            "\n",
            "TRAIN LOSS:  0.0005588696582303314 VALIDATION LOSS: 0.5018680385635036\n",
            "VALIDATION ACCURACY 0.9142476303317536\n"
          ],
          "name": "stdout"
        },
        {
          "output_type": "display_data",
          "data": {
            "image/png": "[encoded data removed]",
            "text/plain": [
              "<Figure size 720x360 with 1 Axes>"
            ]
          },
          "metadata": {
            "tags": [],
            "needs_background": "light"
          }
        }
      ]
    },
    {
      "cell_type": "code",
      "metadata": {
        "id": "V70pPYDUBphW"
      },
      "source": [
        "torch.save(net.state_dict(), '/content/drive/MyDrive/latest.pt')"
      ],
      "execution_count": 10,
      "outputs": []
    }
  ]
}